{
  "nbformat": 4,
  "nbformat_minor": 0,
  "metadata": {
    "colab": {
      "name": "CH3.ipynb",
      "provenance": [],
      "collapsed_sections": [],
      "authorship_tag": "ABX9TyPA00VRVcOYGVgR5RHR48HR",
      "include_colab_link": true
    },
    "kernelspec": {
      "name": "python3",
      "display_name": "Python 3"
    }
  },
  "cells": [
    {
      "cell_type": "markdown",
      "metadata": {
        "id": "view-in-github",
        "colab_type": "text"
      },
      "source": [
        "<a href=\"https://colab.research.google.com/github/GyeeunJeong/nlp_with_pytorch_examples/blob/master/CH3_practice.ipynb\" target=\"_parent\"><img src=\"https://colab.research.google.com/assets/colab-badge.svg\" alt=\"Open In Colab\"/></a>"
      ]
    },
    {
      "cell_type": "markdown",
      "metadata": {
        "id": "hIvztO11LVCR",
        "colab_type": "text"
      },
      "source": [
        "# 3. Hello 파이토치 예제"
      ]
    },
    {
      "cell_type": "code",
      "metadata": {
        "id": "InbQrVISLFV9",
        "colab_type": "code",
        "colab": {}
      },
      "source": [
        "import torch\n",
        "import torch.nn as nn\n",
        "\n",
        "import numpy as np\n",
        "\n",
        "import random"
      ],
      "execution_count": 0,
      "outputs": []
    },
    {
      "cell_type": "markdown",
      "metadata": {
        "id": "23uKVj0EMSJd",
        "colab_type": "text"
      },
      "source": [
        "## 3.3.1 텐서"
      ]
    },
    {
      "cell_type": "code",
      "metadata": {
        "id": "BnicHUHmLwaV",
        "colab_type": "code",
        "colab": {}
      },
      "source": [
        "x1 = torch.Tensor([[1,2], [3,4]])\n",
        "x2 = torch.from_numpy(np.array([[1,2],[3,4]]))\n",
        "\n",
        "x3 = np.array([[1,2],[3,4]])"
      ],
      "execution_count": 0,
      "outputs": []
    },
    {
      "cell_type": "code",
      "metadata": {
        "id": "-InR4aluMDvr",
        "colab_type": "code",
        "colab": {
          "base_uri": "https://localhost:8080/",
          "height": 92
        },
        "outputId": "6f39d5de-593b-422c-b923-53abff4742ee"
      },
      "source": [
        "x1, x2, x3"
      ],
      "execution_count": 4,
      "outputs": [
        {
          "output_type": "execute_result",
          "data": {
            "text/plain": [
              "(tensor([[1., 2.],\n",
              "         [3., 4.]]), tensor([[1, 2],\n",
              "         [3, 4]]), array([[1, 2],\n",
              "        [3, 4]]))"
            ]
          },
          "metadata": {
            "tags": []
          },
          "execution_count": 4
        }
      ]
    },
    {
      "cell_type": "markdown",
      "metadata": {
        "id": "dscnXm17MX5k",
        "colab_type": "text"
      },
      "source": [
        "## 3.3.2 Autograd\n",
        "* 자동으로 미분 및 역전파 수행\n"
      ]
    },
    {
      "cell_type": "code",
      "metadata": {
        "id": "cxtp1quRMQpe",
        "colab_type": "code",
        "colab": {}
      },
      "source": [
        "x = torch.FloatTensor(2, 2)\n",
        "y = torch.FloatTensor(2, 2)\n",
        "y.requires_grad_(True)\n",
        "\n",
        "z = (x+y) + torch.FloatTensor(2, 2)"
      ],
      "execution_count": 0,
      "outputs": []
    },
    {
      "cell_type": "code",
      "metadata": {
        "id": "DYBH9VmANBeq",
        "colab_type": "code",
        "colab": {
          "base_uri": "https://localhost:8080/",
          "height": 55
        },
        "outputId": "59a8cefc-30d1-461a-e231-8ca230bee327"
      },
      "source": [
        "z"
      ],
      "execution_count": 9,
      "outputs": [
        {
          "output_type": "execute_result",
          "data": {
            "text/plain": [
              "tensor([[3.1385e-35, 0.0000e+00],\n",
              "        [4.4842e-44, 0.0000e+00]], grad_fn=<AddBackward0>)"
            ]
          },
          "metadata": {
            "tags": []
          },
          "execution_count": 9
        }
      ]
    },
    {
      "cell_type": "code",
      "metadata": {
        "id": "HqarWU5nNB3m",
        "colab_type": "code",
        "colab": {}
      },
      "source": [
        "with torch.no_grad():\n",
        "  z = (x+y) + torch.FloatTensor(2,2)"
      ],
      "execution_count": 0,
      "outputs": []
    },
    {
      "cell_type": "code",
      "metadata": {
        "id": "2p36OBwVNXt7",
        "colab_type": "code",
        "colab": {
          "base_uri": "https://localhost:8080/",
          "height": 55
        },
        "outputId": "67b0e06a-6bb9-4399-ab65-aca7c543ecd4"
      },
      "source": [
        "z"
      ],
      "execution_count": 11,
      "outputs": [
        {
          "output_type": "execute_result",
          "data": {
            "text/plain": [
              "tensor([[3.1384e-35, 0.0000e+00],\n",
              "        [5.0447e-44, 0.0000e+00]])"
            ]
          },
          "metadata": {
            "tags": []
          },
          "execution_count": 11
        }
      ]
    },
    {
      "cell_type": "markdown",
      "metadata": {
        "id": "_05MLqZtLRD7",
        "colab_type": "text"
      },
      "source": [
        "## 3.3.3 피드포워드"
      ]
    },
    {
      "cell_type": "code",
      "metadata": {
        "id": "NfI76V41Np0S",
        "colab_type": "code",
        "colab": {}
      },
      "source": [
        "def linear(x, W, b):\n",
        "  y = torch.mm(x, W) + b\n",
        "  return y\n",
        "\n",
        "x = torch.FloatTensor(16,10)\n",
        "W = torch.FloatTensor(10,5)\n",
        "b = torch.FloatTensor(5)\n",
        "\n",
        "y = linear(x, W, b)"
      ],
      "execution_count": 0,
      "outputs": []
    },
    {
      "cell_type": "code",
      "metadata": {
        "id": "gbEEkWK3OQ_f",
        "colab_type": "code",
        "colab": {
          "base_uri": "https://localhost:8080/",
          "height": 316
        },
        "outputId": "4d5d8234-425c-4596-c3c7-48a2d7c47b36"
      },
      "source": [
        "y"
      ],
      "execution_count": 17,
      "outputs": [
        {
          "output_type": "execute_result",
          "data": {
            "text/plain": [
              "tensor([[        nan,         nan,         nan,         nan,         nan],\n",
              "        [        inf,         inf,         inf,         inf,         nan],\n",
              "        [        inf,         inf,         inf,         inf,         nan],\n",
              "        [        inf,         inf,         inf,         inf,         nan],\n",
              "        [        inf,         inf,         inf,         inf,         nan],\n",
              "        [        inf,         inf,         inf,         inf,         nan],\n",
              "        [        inf,         inf,         inf,         inf,         nan],\n",
              "        [        inf,         inf,         inf,         inf,         nan],\n",
              "        [        inf,         inf,         inf,         inf,         nan],\n",
              "        [        inf,         inf,         inf,         inf,         nan],\n",
              "        [        inf,         inf,         inf,         inf,         nan],\n",
              "        [        inf,         inf,         inf,         inf,         nan],\n",
              "        [        inf,         inf,         inf,         inf,         nan],\n",
              "        [        inf,         inf,         inf,         inf,         nan],\n",
              "        [        inf,         inf,         inf, -1.3597e+14,         nan],\n",
              "        [-4.3081e+24, -2.1480e+23, -2.1056e+17, -1.3612e+14,         nan]])"
            ]
          },
          "metadata": {
            "tags": []
          },
          "execution_count": 17
        }
      ]
    },
    {
      "cell_type": "markdown",
      "metadata": {
        "id": "K1HE9WF9LPFn",
        "colab_type": "text"
      },
      "source": [
        "## 3.3.4 nn.Module\n",
        "* nn.Module 클래스를 사용해 피드포워드 구현"
      ]
    },
    {
      "cell_type": "code",
      "metadata": {
        "id": "4s2pfWV3O49k",
        "colab_type": "code",
        "colab": {}
      },
      "source": [
        "class MyLinear(nn.Module):\n",
        "  def __init__(self, input_size, output_size):\n",
        "    super().__init__()\n",
        "\n",
        "    #self.W = nn.Parameter(torch.FloatTensor(input_size, output_size), requires_grad=True)\n",
        "    #self.b = nn.Parameter(torch.FloatTensor(output_size), requires_grad=True)\n",
        "    self.linear = nn.Linear(input_size, output_size)\n",
        "\n",
        "  def forward(self, x):\n",
        "    #y = torch.mm(x, self.W) + self.b\n",
        "    y = self.linear(x)\n",
        "    return y"
      ],
      "execution_count": 0,
      "outputs": []
    },
    {
      "cell_type": "code",
      "metadata": {
        "id": "Bs3xFjgfO5oJ",
        "colab_type": "code",
        "colab": {}
      },
      "source": [
        "x = torch.FloatTensor(16,10)\n",
        "linear = MyLinear(10,5)\n",
        "y = linear(x)"
      ],
      "execution_count": 0,
      "outputs": []
    },
    {
      "cell_type": "code",
      "metadata": {
        "id": "wDbEXtWkQ0pM",
        "colab_type": "code",
        "colab": {
          "base_uri": "https://localhost:8080/",
          "height": 73
        },
        "outputId": "1b09b62a-b159-4dca-94db-cefd2f148ab5"
      },
      "source": [
        "linear"
      ],
      "execution_count": 24,
      "outputs": [
        {
          "output_type": "execute_result",
          "data": {
            "text/plain": [
              "MyLinear(\n",
              "  (linear): Linear(in_features=10, out_features=5, bias=True)\n",
              ")"
            ]
          },
          "metadata": {
            "tags": []
          },
          "execution_count": 24
        }
      ]
    },
    {
      "cell_type": "markdown",
      "metadata": {
        "id": "P3vc5QSYROxb",
        "colab_type": "text"
      },
      "source": [
        "## 3.3.5 역전파 수행\n",
        "* 피드포워드를 통해 얻은 값과 실제 정답값과의 차이를 계산해서 오류를 뒤로 전달(back-propagation)"
      ]
    },
    {
      "cell_type": "code",
      "metadata": {
        "id": "wWlTMxnKO52i",
        "colab_type": "code",
        "colab": {}
      },
      "source": [
        "objective = 100\n",
        "\n",
        "loss = (objective - y.sum())**2\n",
        "\n",
        "loss.backward()"
      ],
      "execution_count": 0,
      "outputs": []
    },
    {
      "cell_type": "code",
      "metadata": {
        "id": "lNmNkjNoRkeR",
        "colab_type": "code",
        "colab": {
          "base_uri": "https://localhost:8080/",
          "height": 36
        },
        "outputId": "36efa689-db6b-4145-f845-7d4d45a8fa28"
      },
      "source": [
        "loss"
      ],
      "execution_count": 28,
      "outputs": [
        {
          "output_type": "execute_result",
          "data": {
            "text/plain": [
              "tensor(nan, grad_fn=<PowBackward0>)"
            ]
          },
          "metadata": {
            "tags": []
          },
          "execution_count": 28
        }
      ]
    },
    {
      "cell_type": "markdown",
      "metadata": {
        "id": "khb8k9sFRq7n",
        "colab_type": "text"
      },
      "source": [
        "## 3.3.6 train()과 eval()\n",
        "* 훈련/추론모드\n",
        "* 기본 : 훈련모드\n",
        "* eval을 통해 추론모드로 변경하면 드롭아웃, 배치 정규화와 같은 학습과 추론 시 서로 다른 forward() 동작을 하는 모듈들에 대해서도 각 상황에 따라 올바르게 동작\n",
        "* 추론 끝나면 다시 train() 선언"
      ]
    },
    {
      "cell_type": "code",
      "metadata": {
        "id": "VAr_zJboRrMd",
        "colab_type": "code",
        "colab": {}
      },
      "source": [
        "linear.eval()\n",
        "linear.train()"
      ],
      "execution_count": 0,
      "outputs": []
    },
    {
      "cell_type": "markdown",
      "metadata": {
        "id": "inhV-NOaRr0a",
        "colab_type": "text"
      },
      "source": [
        "## 3.3.7 선형회귀분석 예제"
      ]
    },
    {
      "cell_type": "code",
      "metadata": {
        "id": "rDL9hk4ZRsA7",
        "colab_type": "code",
        "colab": {}
      },
      "source": [
        "class MyModel(nn.Module):\n",
        "  def __init__(self, input_size, output_size):\n",
        "    super(MyModel, self).__init__()\n",
        "\n",
        "    self.linear = nn.Linear(input_size, output_size)\n",
        "\n",
        "  def forward(self, x):\n",
        "    y = self.linear(x)\n",
        "\n",
        "    return y\n",
        "\n",
        "# 실제 정답\n",
        "def ground_truth(x):\n",
        "  return 3*x[:,0]+x[:,1]-2*x[:,2]\n",
        "\n",
        "def train(model, x, y, optim):\n",
        "  # initialize gradients in all parameters in module.\n",
        "  optim.zero_grad()\n",
        "\n",
        "  # feed-forward\n",
        "  y_hat = model(x) # y근사값\n",
        "  # get error between answer and inferenced\n",
        "  loss = ((y-y_hat)**2).sum() / x.size(0)\n",
        "\n",
        "  # back-propagation\n",
        "  loss.backward()\n",
        "\n",
        "  # one-step of gradient descent\n",
        "  optim.step()\n",
        "\n",
        "  return loss.data"
      ],
      "execution_count": 0,
      "outputs": []
    },
    {
      "cell_type": "code",
      "metadata": {
        "id": "B24SOdCBRsJ-",
        "colab_type": "code",
        "colab": {}
      },
      "source": [
        "# hyperparameter\n",
        "batch_size = 1\n",
        "n_epochs = 1000\n",
        "n_iter = 10000\n",
        "\n",
        "model = MyModel(3,1)\n",
        "optim = torch.optim.SGD(model.parameters(), lr=0.0001, momentum=0.1)"
      ],
      "execution_count": 0,
      "outputs": []
    },
    {
      "cell_type": "code",
      "metadata": {
        "id": "j6ZkHSU2RsTp",
        "colab_type": "code",
        "colab": {
          "base_uri": "https://localhost:8080/",
          "height": 73
        },
        "outputId": "4e965370-8471-4670-d0b1-fb82f8f4eff3"
      },
      "source": [
        "model"
      ],
      "execution_count": 48,
      "outputs": [
        {
          "output_type": "execute_result",
          "data": {
            "text/plain": [
              "MyModel(\n",
              "  (linear): Linear(in_features=3, out_features=1, bias=True)\n",
              ")"
            ]
          },
          "metadata": {
            "tags": []
          },
          "execution_count": 48
        }
      ]
    },
    {
      "cell_type": "code",
      "metadata": {
        "id": "qLIoKey8RsbE",
        "colab_type": "code",
        "colab": {
          "base_uri": "https://localhost:8080/",
          "height": 36
        },
        "outputId": "53cc4aaf-c8a8-4904-f017-406881b18c6d"
      },
      "source": [
        "for epoch in range(n_epochs):\n",
        "  avg_loss = 0\n",
        "\n",
        "  for i in range(n_iter):\n",
        "    x = torch.rand(batch_size, 3)\n",
        "    y = ground_truth(x.data)\n",
        "    loss = train(model, x, y, optim)\n",
        "\n",
        "    avg_loss += loss\n",
        "    avg_loss = avg_loss / n_iter\n",
        "\n",
        "  # simple test sample to check the network\n",
        "  x_valid = torch.FloatTensor([[.3, .2, .1]])\n",
        "  y_valid = ground_truth(x_valid.data)\n",
        "\n",
        "  model.eval()\n",
        "  y_hat = model(x_valid)\n",
        "  model.train()\n",
        "\n",
        "  print(avg_loss, y_valid.data[0], y_hat.data[0,0])\n",
        "\n",
        "  if avg_loss < .001: # finish the training if the loss is smaller than .001.\n",
        "    break"
      ],
      "execution_count": 49,
      "outputs": [
        {
          "output_type": "stream",
          "text": [
            "tensor(7.6221e-06) tensor(0.9000) tensor(0.4846)\n"
          ],
          "name": "stdout"
        }
      ]
    },
    {
      "cell_type": "markdown",
      "metadata": {
        "id": "vMgEQ1h0Rsk4",
        "colab_type": "text"
      },
      "source": [
        "## 3.3.8 GPU 사용하기\n",
        "* cuda() 함수를 통해 원하는 객체를 GPU 메모리에 복사/이동\n",
        "* cpu() 함수를 통해 다시 PC의 메모리로 복사/이동\n",
        "* to() 함수를 통해 텐서/모듈을 원하는 디바이스로 이동"
      ]
    },
    {
      "cell_type": "code",
      "metadata": {
        "id": "C8_p9lIWVXKP",
        "colab_type": "code",
        "colab": {}
      },
      "source": [
        "# Note that tensor is declared in torch.cuda\n",
        "x = torch.cuda.FloatTensor(16, 10)\n",
        "linear = MyLinear(10,5)\n",
        "linear.cuda()\n",
        "y = linear(x)"
      ],
      "execution_count": 0,
      "outputs": []
    }
  ]
}